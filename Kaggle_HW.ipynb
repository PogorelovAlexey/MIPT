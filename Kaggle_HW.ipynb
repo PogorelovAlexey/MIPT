{
 "cells": [
  {
   "cell_type": "markdown",
   "metadata": {},
   "source": [
    "# ОПИСАНИЕ\n",
    "ЗАДАЧА\n",
    "Для закрепления пройденного материала предлагаем вам следующее задание: используя библиотеку kaggle-environments, реализующую функционал взаимодействия между виртуальными агентами в рамках нескольких популярных игр, реализовать самостоятельно несколько агентов и сравнить их в игре «камень-ножницы-бумага».\n",
    "\n",
    "камень_ножницы_бумага\n",
    "\n",
    " \n",
    "\n",
    "ВАМ НЕОБХОДИМО:\n",
    "Описать поведение бота, который будет играть с такими же ботами в игру «камень-ножницы-бумага». Поведение бота описывается с помощью функции, которая принимает на вход информацию о прошлых играх. (сигнатура функции приведена в Google Colab, а детальное описание входящих значений доступно по ссылке)\n",
    "После описания поведения агентов запустить турнир между ними и проверить, какая стратегия показывает себя лучше всех.\n",
    "Отметим, что вам необязательно использовать «качественные» стратегии — в этом задании основной упор необходимо сделать на разнообразие (т.е. агенты, которые бы играли, придерживаясь стратегии «только камень» или »только ножницы» – это нормально)."
   ]
  },
  {
   "cell_type": "code",
   "execution_count": 182,
   "metadata": {
    "id": "MXXTuy_o0sjk"
   },
   "outputs": [],
   "source": [
    "!pip install -q -U kaggle_environments"
   ]
  },
  {
   "cell_type": "code",
   "execution_count": 183,
   "metadata": {
    "id": "MXXTuy_o0sjk"
   },
   "outputs": [],
   "source": [
    "import numpy as np\n",
    "import pandas as pd\n",
    "import random\n",
    "\n",
    "import matplotlib.pyplot as plt\n",
    "import seaborn as sns\n",
    "\n",
    "from kaggle_environments import make, evaluate"
   ]
  },
  {
   "cell_type": "markdown",
   "metadata": {
    "id": "0kuo6IOxiRub"
   },
   "source": [
    "## 1. Бот \"камень\""
   ]
  },
  {
   "cell_type": "code",
   "execution_count": 184,
   "metadata": {
    "colab": {
     "base_uri": "https://localhost:8080/"
    },
    "id": "bqTqV7B92rJ6",
    "outputId": "3764230a-2884-41da-92c0-a1265bc7254c"
   },
   "outputs": [
    {
     "name": "stdout",
     "output_type": "stream",
     "text": [
      "Overwriting rock_agent.py\n"
     ]
    }
   ],
   "source": [
    "%%writefile rock_agent.py\n",
    "\n",
    "#0 - rock\n",
    "#1 - paper\n",
    "#2 - scissors\n",
    "def your_agent(observation, configuration):\n",
    "    return 0"
   ]
  },
  {
   "cell_type": "code",
   "execution_count": 185,
   "metadata": {},
   "outputs": [
    {
     "data": {
      "text/plain": [
       "[[-98.0, 98.0]]"
      ]
     },
     "execution_count": 185,
     "metadata": {},
     "output_type": "execute_result"
    }
   ],
   "source": [
    "evaluate(\n",
    "    \"rps\", #environment to use - no need to change\n",
    "    [\"rock_agent.py\", \"statistical\"], #agents to evaluate\n",
    "    configuration={\"episodeSteps\": 100}, #number of episodes\n",
    ")"
   ]
  },
  {
   "cell_type": "markdown",
   "metadata": {
    "id": "CZDUmTITyV8G"
   },
   "source": [
    "## 2. Бот \"бумага\""
   ]
  },
  {
   "cell_type": "code",
   "execution_count": 186,
   "metadata": {
    "colab": {
     "base_uri": "https://localhost:8080/"
    },
    "id": "eoMyw2lEyU82",
    "outputId": "6d5ca399-1e57-4e0a-fdd7-d58aa68ee40f"
   },
   "outputs": [
    {
     "name": "stdout",
     "output_type": "stream",
     "text": [
      "Overwriting paper_agent.py\n"
     ]
    }
   ],
   "source": [
    "%%writefile paper_agent.py\n",
    "\n",
    "def your_agent(observation, configuration):\n",
    "    return 1"
   ]
  },
  {
   "cell_type": "code",
   "execution_count": 187,
   "metadata": {},
   "outputs": [
    {
     "data": {
      "text/plain": [
       "[[-97.0, 97.0]]"
      ]
     },
     "execution_count": 187,
     "metadata": {},
     "output_type": "execute_result"
    }
   ],
   "source": [
    "evaluate(\n",
    "    \"rps\", #environment to use - no need to change\n",
    "    [\"paper_agent.py\", \"statistical\"], #agents to evaluate\n",
    "    configuration={\"episodeSteps\": 100} #number of episodes \n",
    ")"
   ]
  },
  {
   "cell_type": "markdown",
   "metadata": {
    "id": "gYcq1iInyl6M"
   },
   "source": [
    "## 3. Бот \"ножницы\""
   ]
  },
  {
   "cell_type": "code",
   "execution_count": 188,
   "metadata": {
    "colab": {
     "base_uri": "https://localhost:8080/"
    },
    "id": "07C09HaWypWl",
    "outputId": "ab59124c-3dd6-4a09-bb8b-c1d8271236be"
   },
   "outputs": [
    {
     "name": "stdout",
     "output_type": "stream",
     "text": [
      "Overwriting scissors_agent.py\n"
     ]
    }
   ],
   "source": [
    "%%writefile scissors_agent.py\n",
    "\n",
    "def your_agent(observation, configuration):\n",
    "    return 2"
   ]
  },
  {
   "cell_type": "code",
   "execution_count": 189,
   "metadata": {},
   "outputs": [
    {
     "data": {
      "text/plain": [
       "[[-99.0, 99.0]]"
      ]
     },
     "execution_count": 189,
     "metadata": {},
     "output_type": "execute_result"
    }
   ],
   "source": [
    "evaluate(\n",
    "    \"rps\", #environment to use - no need to change\n",
    "    [\"scissors_agent.py\", \"statistical\"], #agents to evaluate\n",
    "    configuration={\"episodeSteps\": 100}, #number of episodes\n",
    ")"
   ]
  },
  {
   "cell_type": "markdown",
   "metadata": {},
   "source": [
    "## 4. Случайный бот"
   ]
  },
  {
   "cell_type": "code",
   "execution_count": 190,
   "metadata": {},
   "outputs": [
    {
     "name": "stdout",
     "output_type": "stream",
     "text": [
      "Overwriting random_agent.py\n"
     ]
    }
   ],
   "source": [
    "%%writefile random_agent.py\n",
    "import random\n",
    "# Random bot\n",
    "def random_agent(observation, configuration):\n",
    "    return random.randrange(random.randrange(0,2), 3)"
   ]
  },
  {
   "cell_type": "code",
   "execution_count": 191,
   "metadata": {},
   "outputs": [
    {
     "data": {
      "text/plain": [
       "[[0, 0]]"
      ]
     },
     "execution_count": 191,
     "metadata": {},
     "output_type": "execute_result"
    }
   ],
   "source": [
    "evaluate(\n",
    "    \"rps\", #environment to use - no need to change\n",
    "    [\"random_agent.py\",  \"paper\"], #agents to evaluate\n",
    "    configuration={\"episodeSteps\": 100} #number of episodes \n",
    ")"
   ]
  },
  {
   "cell_type": "markdown",
   "metadata": {},
   "source": [
    "## 5. Бот предполагает повтор соперника. "
   ]
  },
  {
   "cell_type": "code",
   "execution_count": 192,
   "metadata": {},
   "outputs": [
    {
     "name": "stdout",
     "output_type": "stream",
     "text": [
      "Overwriting repeat_agent.py\n"
     ]
    }
   ],
   "source": [
    "%%writefile repeat_agent.py\n",
    "import random\n",
    "# Example \n",
    "def repeat_agent(observation, configuration):\n",
    "    # In case we have information about opponent last move\n",
    "    if observation.step > 0:\n",
    "        # We apply oposit variant for next step\n",
    "        return [0,1,2][observation.lastOpponentAction-2]\n",
    "    #initial step\n",
    "    else:\n",
    "         return random.randrange(random.randrange(0,2), 3)"
   ]
  },
  {
   "cell_type": "code",
   "execution_count": 193,
   "metadata": {},
   "outputs": [
    {
     "data": {
      "text/plain": [
       "[[98.0, -98.0]]"
      ]
     },
     "execution_count": 193,
     "metadata": {},
     "output_type": "execute_result"
    }
   ],
   "source": [
    "evaluate(\n",
    "    \"rps\", #environment to use - no need to change\n",
    "    [\"repeat_agent.py\",  \"paper\"], #agents to evaluate\n",
    "    configuration={\"episodeSteps\": 100} #number of episodes \n",
    ")"
   ]
  },
  {
   "cell_type": "markdown",
   "metadata": {
    "id": "et1J5hUGigeh"
   },
   "source": [
    "## 6. Бот копирует предыдущее действие соперника"
   ]
  },
  {
   "cell_type": "code",
   "execution_count": 194,
   "metadata": {
    "colab": {
     "base_uri": "https://localhost:8080/"
    },
    "id": "7l6Ttw6qi0jk",
    "outputId": "a0199f43-b4c7-478c-9ec3-3541f195b0b3"
   },
   "outputs": [
    {
     "name": "stdout",
     "output_type": "stream",
     "text": [
      "Overwriting copy_agent.py\n"
     ]
    }
   ],
   "source": [
    "%%writefile copy_agent.py\n",
    "\n",
    "import random\n",
    "\n",
    "def copy_agent(observation, configuration):\n",
    "    if observation.step > 0:\n",
    "        return observation.lastOpponentAction\n",
    "    else:\n",
    "        return random.randrange(random.randrange(0,2), 3)"
   ]
  },
  {
   "cell_type": "code",
   "execution_count": 195,
   "metadata": {
    "scrolled": true
   },
   "outputs": [
    {
     "data": {
      "text/plain": [
       "[[-22.0, 22.0]]"
      ]
     },
     "execution_count": 195,
     "metadata": {},
     "output_type": "execute_result"
    }
   ],
   "source": [
    "evaluate(\n",
    "    \"rps\", #environment to use - no need to change\n",
    "    [\"copy_agent.py\", \"statistical\"], #agents to evaluate\n",
    "    configuration={\"episodeSteps\": 100}, #number of episodes\n",
    ")"
   ]
  },
  {
   "cell_type": "markdown",
   "metadata": {},
   "source": [
    "## 7. Бот выбирает то, что не использовал соперник в предыдущем ходу"
   ]
  },
  {
   "cell_type": "code",
   "execution_count": 196,
   "metadata": {},
   "outputs": [
    {
     "name": "stdout",
     "output_type": "stream",
     "text": [
      "Overwriting opposit_agent.py\n"
     ]
    }
   ],
   "source": [
    "%%writefile opposit_agent.py\n",
    "\n",
    "import random\n",
    "\n",
    "def opposit_agent(observation, configuration):\n",
    "    if observation.step > 0:\n",
    "        if observation.lastOpponentAction == 0:\n",
    "            return random.choice([1,2])\n",
    "        elif observation.lastOpponentAction == 1:\n",
    "            return random.choice([0,2])\n",
    "        else:\n",
    "            return random.choice([1,0])\n",
    "    else:\n",
    "        return random.randrange(random.randrange(0,2), 3)"
   ]
  },
  {
   "cell_type": "code",
   "execution_count": 197,
   "metadata": {},
   "outputs": [
    {
     "data": {
      "text/plain": [
       "[[0, 0]]"
      ]
     },
     "execution_count": 197,
     "metadata": {},
     "output_type": "execute_result"
    }
   ],
   "source": [
    "evaluate(\n",
    "    \"rps\", #environment to use - no need to change\n",
    "    [\"opposit_agent.py\", \"statistical\"], #agents to evaluate\n",
    "    configuration={\"episodeSteps\": 100}, #number of episodes\n",
    ")"
   ]
  },
  {
   "cell_type": "markdown",
   "metadata": {},
   "source": [
    "## 8. Бот повторяет 2 раза один выбор, затем меняет"
   ]
  },
  {
   "cell_type": "code",
   "execution_count": 198,
   "metadata": {},
   "outputs": [
    {
     "name": "stdout",
     "output_type": "stream",
     "text": [
      "Overwriting repeat2_agent.py\n"
     ]
    }
   ],
   "source": [
    "%%writefile repeat2_agent.py\n",
    "\n",
    "import random\n",
    "\n",
    "counter = 0\n",
    "sign = None\n",
    "\n",
    "def repeat2_agent(observation, configuration):\n",
    "    global counter\n",
    "    global stable_sign\n",
    "    if observation.step == 0:\n",
    "        # sign = random.randrange(0, configuration.signs)\n",
    "        random.randrange(random.randrange(0,2), 3)\n",
    "    elif counter % 3 == 1:\n",
    "        # sign = random.randrange(0, configuration.signs)\n",
    "        random.randrange(random.randrange(0,2), 3)\n",
    "    counter += 1\n",
    "    return sign"
   ]
  },
  {
   "cell_type": "code",
   "execution_count": 199,
   "metadata": {},
   "outputs": [
    {
     "data": {
      "text/plain": [
       "[[-98.0, 98.0]]"
      ]
     },
     "execution_count": 199,
     "metadata": {},
     "output_type": "execute_result"
    }
   ],
   "source": [
    "evaluate(\n",
    "    \"rps\", #environment to use - no need to change\n",
    "    [\"repeat2_agent.py\", \"statistical\"], #agents to evaluate\n",
    "    configuration={\"episodeSteps\": 100}, #number of episodes\n",
    ")"
   ]
  },
  {
   "cell_type": "markdown",
   "metadata": {
    "id": "7sz2Oe2ry7yx"
   },
   "source": [
    "## 9. Бот делает +1 действие, что выбрал оппонент на прошлом ходу"
   ]
  },
  {
   "cell_type": "code",
   "execution_count": 200,
   "metadata": {
    "colab": {
     "base_uri": "https://localhost:8080/"
    },
    "id": "VXkrB6bbzZbT",
    "outputId": "f9cf69eb-2931-4f2f-9547-cf0be73c01e2"
   },
   "outputs": [
    {
     "name": "stdout",
     "output_type": "stream",
     "text": [
      "Overwriting copynext_agent.py\n"
     ]
    }
   ],
   "source": [
    "%%writefile copynext_agent.py\n",
    "\n",
    "import random\n",
    "\n",
    "def copynext_agent(observation, configuration):\n",
    "    if observation.step > 0:\n",
    "        return (observation.lastOpponentAction + 1) % configuration.signs\n",
    "    else:\n",
    "        return random.randrange(random.randrange(0,2), 3)"
   ]
  },
  {
   "cell_type": "code",
   "execution_count": 201,
   "metadata": {},
   "outputs": [
    {
     "data": {
      "text/plain": [
       "[[59.0, -59.0]]"
      ]
     },
     "execution_count": 201,
     "metadata": {},
     "output_type": "execute_result"
    }
   ],
   "source": [
    "evaluate(\n",
    "    \"rps\", #environment to use - no need to change\n",
    "    [\"copynext_agent.py\", \"statistical\"], #agents to evaluate\n",
    "    configuration={\"episodeSteps\": 100}, #number of episodes\n",
    ")"
   ]
  },
  {
   "cell_type": "markdown",
   "metadata": {
    "id": "UXX1qs3Y3pq9"
   },
   "source": [
    "## 10. Бот делает -1 действие, что выбрал оппонент на прошлом ходу"
   ]
  },
  {
   "cell_type": "code",
   "execution_count": 202,
   "metadata": {
    "colab": {
     "base_uri": "https://localhost:8080/"
    },
    "id": "befWCH_53rPC",
    "outputId": "35098c09-da46-4534-c2b3-045f43cff4b3"
   },
   "outputs": [
    {
     "name": "stdout",
     "output_type": "stream",
     "text": [
      "Overwriting copyprevious_agent.py\n"
     ]
    }
   ],
   "source": [
    "%%writefile copyprevious_agent.py\n",
    "\n",
    "import random\n",
    "\n",
    "def copyprevious_agent(observation, configuration):\n",
    "    if observation.step > 0:\n",
    "        return (observation.lastOpponentAction + 2) % configuration.signs\n",
    "    else:\n",
    "        return random.randrange(random.randrange(0,2), 3)"
   ]
  },
  {
   "cell_type": "code",
   "execution_count": 203,
   "metadata": {},
   "outputs": [
    {
     "data": {
      "text/plain": [
       "[[-96.0, 96.0]]"
      ]
     },
     "execution_count": 203,
     "metadata": {},
     "output_type": "execute_result"
    }
   ],
   "source": [
    "evaluate(\n",
    "    \"rps\", #environment to use - no need to change\n",
    "    [\"copyprevious_agent.py\", \"statistical\"], #agents to evaluate\n",
    "    configuration={\"episodeSteps\": 100}, #number of episodes\n",
    ")"
   ]
  },
  {
   "cell_type": "markdown",
   "metadata": {},
   "source": [
    "## 11. Бот выбирет бумагу при четном шаге, остальные рандомно"
   ]
  },
  {
   "cell_type": "code",
   "execution_count": 204,
   "metadata": {},
   "outputs": [
    {
     "name": "stdout",
     "output_type": "stream",
     "text": [
      "Overwriting step2_paper_agent.py\n"
     ]
    }
   ],
   "source": [
    "%%writefile step2_paper_agent.py\n",
    "import random\n",
    "# Rock bot\n",
    "def step2_paper_agent(observation, configuration):\n",
    "    # if even step\n",
    "    if not observation.step%2: return 1\n",
    "    else: return random.choice([0, 2])"
   ]
  },
  {
   "cell_type": "code",
   "execution_count": 205,
   "metadata": {},
   "outputs": [
    {
     "data": {
      "text/plain": [
       "[[-22.0, 22.0]]"
      ]
     },
     "execution_count": 205,
     "metadata": {},
     "output_type": "execute_result"
    }
   ],
   "source": [
    "evaluate(\n",
    "    \"rps\", #environment to use - no need to change\n",
    "    [\"step2_paper_agent.py\",  \"statistical\"], #agents to evaluate\n",
    "    configuration={\"episodeSteps\": 100} #number of episodes \n",
    ")"
   ]
  },
  {
   "cell_type": "markdown",
   "metadata": {},
   "source": [
    "## 12. Бот выбирет камень при четном шаге, остальные рандомно"
   ]
  },
  {
   "cell_type": "code",
   "execution_count": 206,
   "metadata": {},
   "outputs": [
    {
     "name": "stdout",
     "output_type": "stream",
     "text": [
      "Overwriting step2_rock_agent.py\n"
     ]
    }
   ],
   "source": [
    "%%writefile step2_rock_agent.py\n",
    "import random\n",
    "# Rock bot\n",
    "def step2_rock_agent(observation, configuration):\n",
    "    # if even step\n",
    "    if not observation.step%2: return 0\n",
    "    else: return random.choice([1, 2])"
   ]
  },
  {
   "cell_type": "code",
   "execution_count": 207,
   "metadata": {},
   "outputs": [
    {
     "data": {
      "text/plain": [
       "[[-25.0, 25.0]]"
      ]
     },
     "execution_count": 207,
     "metadata": {},
     "output_type": "execute_result"
    }
   ],
   "source": [
    "evaluate(\n",
    "    \"rps\", #environment to use - no need to change\n",
    "    [\"step2_rock_agent.py\",  \"statistical\"], #agents to evaluate\n",
    "    configuration={\"episodeSteps\": 100} #number of episodes \n",
    ")"
   ]
  },
  {
   "cell_type": "markdown",
   "metadata": {},
   "source": [
    "## 13. Бот выбирет ножницы при четном шаге, остальные рандомно"
   ]
  },
  {
   "cell_type": "code",
   "execution_count": 208,
   "metadata": {},
   "outputs": [
    {
     "name": "stdout",
     "output_type": "stream",
     "text": [
      "Overwriting step2_scissors_agent.py\n"
     ]
    }
   ],
   "source": [
    "%%writefile step2_scissors_agent.py\n",
    "import random\n",
    "# Rock bot\n",
    "def step123_rock_scissors_paper_agent(observation, configuration):\n",
    "    # if even step\n",
    "    if observation.step%2: return 2\n",
    "    else: return random.choice([0, 1])"
   ]
  },
  {
   "cell_type": "code",
   "execution_count": 209,
   "metadata": {},
   "outputs": [
    {
     "data": {
      "text/plain": [
       "[[-24.0, 24.0]]"
      ]
     },
     "execution_count": 209,
     "metadata": {},
     "output_type": "execute_result"
    }
   ],
   "source": [
    "evaluate(\n",
    "    \"rps\", #environment to use - no need to change\n",
    "    [\"step2_scissors_agent.py\",  \"statistical\"], #agents to evaluate\n",
    "    configuration={\"episodeSteps\": 100} #number of episodes \n",
    ")"
   ]
  },
  {
   "cell_type": "markdown",
   "metadata": {},
   "source": [
    "# Турнир Ботов\n",
    "Запишем список агентов, сделаем круговой турнир (количество игр times между ботами).\n",
    "\n",
    "Результаты турнира выведем в виде таблицы Pandas."
   ]
  },
  {
   "cell_type": "code",
   "execution_count": 210,
   "metadata": {},
   "outputs": [
    {
     "data": {
      "text/html": [
       "<div>\n",
       "<style scoped>\n",
       "    .dataframe tbody tr th:only-of-type {\n",
       "        vertical-align: middle;\n",
       "    }\n",
       "\n",
       "    .dataframe tbody tr th {\n",
       "        vertical-align: top;\n",
       "    }\n",
       "\n",
       "    .dataframe thead th {\n",
       "        text-align: right;\n",
       "    }\n",
       "</style>\n",
       "<table border=\"1\" class=\"dataframe\">\n",
       "  <thead>\n",
       "    <tr style=\"text-align: right;\">\n",
       "      <th></th>\n",
       "      <th>Рекорд турнира Камень Ножницы Бумага</th>\n",
       "    </tr>\n",
       "  </thead>\n",
       "  <tbody>\n",
       "    <tr>\n",
       "      <th>repeat_agent.py</th>\n",
       "      <td>35</td>\n",
       "    </tr>\n",
       "    <tr>\n",
       "      <th>step2_paper_agent.py</th>\n",
       "      <td>35</td>\n",
       "    </tr>\n",
       "    <tr>\n",
       "      <th>opposit_agent.py</th>\n",
       "      <td>32</td>\n",
       "    </tr>\n",
       "    <tr>\n",
       "      <th>random_agent.py</th>\n",
       "      <td>30</td>\n",
       "    </tr>\n",
       "    <tr>\n",
       "      <th>copynext_agent.py</th>\n",
       "      <td>30</td>\n",
       "    </tr>\n",
       "    <tr>\n",
       "      <th>step2_scissors_agent.py</th>\n",
       "      <td>29</td>\n",
       "    </tr>\n",
       "    <tr>\n",
       "      <th>scissors_agent.py</th>\n",
       "      <td>28</td>\n",
       "    </tr>\n",
       "    <tr>\n",
       "      <th>copy_agent.py</th>\n",
       "      <td>28</td>\n",
       "    </tr>\n",
       "    <tr>\n",
       "      <th>copyprevious_agent.py</th>\n",
       "      <td>27</td>\n",
       "    </tr>\n",
       "    <tr>\n",
       "      <th>step2_rock_agent.py</th>\n",
       "      <td>26</td>\n",
       "    </tr>\n",
       "    <tr>\n",
       "      <th>rock_agent.py</th>\n",
       "      <td>23</td>\n",
       "    </tr>\n",
       "    <tr>\n",
       "      <th>paper_agent.py</th>\n",
       "      <td>23</td>\n",
       "    </tr>\n",
       "    <tr>\n",
       "      <th>repeat2_agent.py</th>\n",
       "      <td>22</td>\n",
       "    </tr>\n",
       "  </tbody>\n",
       "</table>\n",
       "</div>"
      ],
      "text/plain": [
       "                         Рекорд турнира Камень Ножницы Бумага\n",
       "repeat_agent.py                                            35\n",
       "step2_paper_agent.py                                       35\n",
       "opposit_agent.py                                           32\n",
       "random_agent.py                                            30\n",
       "copynext_agent.py                                          30\n",
       "step2_scissors_agent.py                                    29\n",
       "scissors_agent.py                                          28\n",
       "copy_agent.py                                              28\n",
       "copyprevious_agent.py                                      27\n",
       "step2_rock_agent.py                                        26\n",
       "rock_agent.py                                              23\n",
       "paper_agent.py                                             23\n",
       "repeat2_agent.py                                           22"
      ]
     },
     "execution_count": 210,
     "metadata": {},
     "output_type": "execute_result"
    }
   ],
   "source": [
    "agents = ['rock_agent.py',\n",
    "          'paper_agent.py',\n",
    "          'scissors_agent.py',\n",
    "          'random_agent.py',\n",
    "          'repeat_agent.py',\n",
    "          'copy_agent.py',\n",
    "          'opposit_agent.py',\n",
    "          'repeat2_agent.py',\n",
    "          'copynext_agent.py',\n",
    "          'copyprevious_agent.py',\n",
    "          'step2_paper_agent.py',\n",
    "          'step2_rock_agent.py',\n",
    "          'step2_scissors_agent.py']\n",
    "\n",
    "\n",
    "rating = {agent: 0 for agent in agents}\n",
    "\n",
    "for times in range(5):\n",
    "# колличесвто игр между парами ботов\n",
    "          \n",
    "    for i in range(len(agents)):\n",
    "        for j in range(i+1, len(agents)):\n",
    "            r = evaluate(\n",
    "            \"rps\", #environment to use - no need to change\n",
    "            [agents[i], agents[j]], #agents to evaluate\n",
    "            configuration={\"episodeSteps\": 100, 'tieRewardThreshold': 1} #number of episodes \n",
    "            )\n",
    "            if r[0][0] > r[0][1]:\n",
    "                rating[agents[i]] += 1\n",
    "            elif r[0][0] < r[0][1]:\n",
    "                rating[agents[j]] += 1\n",
    "                \n",
    "record = pd.Series(rating, name=\"Рекорд турнира Камень Ножницы Бумага\").sort_values(ascending=False).to_frame()\n",
    "record\n",
    "            \n"
   ]
  },
  {
   "cell_type": "code",
   "execution_count": null,
   "metadata": {},
   "outputs": [],
   "source": []
  }
 ],
 "metadata": {
  "colab": {
   "collapsed_sections": [],
   "provenance": []
  },
  "kernelspec": {
   "display_name": "Python 3 (ipykernel)",
   "language": "python",
   "name": "python3"
  },
  "language_info": {
   "codemirror_mode": {
    "name": "ipython",
    "version": 3
   },
   "file_extension": ".py",
   "mimetype": "text/x-python",
   "name": "python",
   "nbconvert_exporter": "python",
   "pygments_lexer": "ipython3",
   "version": "3.9.12"
  },
  "vscode": {
   "interpreter": {
    "hash": "f753dde58ddb99e3e3a8a3f6ff6bb163e9afd007b68b7c9487cb38bca28a3c09"
   }
  }
 },
 "nbformat": 4,
 "nbformat_minor": 1
}
